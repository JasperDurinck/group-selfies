{
 "cells": [
  {
   "cell_type": "code",
   "execution_count": null,
   "metadata": {},
   "outputs": [],
   "source": [
    "import selfies as sf\n",
    "from group_selfies.group_mol_graph import Group\n",
    "from group_selfies.group_grammar import GroupGrammar\n",
    "from rdkit import Chem\n",
    "from rdkit.Chem import Draw\n",
    "from rdkit.Chem.Draw import IPythonConsole\n",
    "IPythonConsole.drawOptions.drawMolsSameScale = False # DrawMolsZoomed\n",
    "from rdkit import RDLogger\n",
    "RDLogger.DisableLog('rdApp.*')\n",
    "# RDLogger.EnableLog('rdApp.*')\n",
    "import numpy as np\n",
    "from group_selfies.utils.fragment_utils import fragment_mols\n",
    "from tqdm import tqdm\n",
    "import re\n",
    "import random\n",
    "m = Chem.MolFromSmiles\n",
    "\n",
    "import time\n",
    "\n",
    "# get some molecules from the ZINC dataset\n",
    "zinc = [x.strip() for x in open('../tests/test_sets/zinc.csv')][1:]"
   ]
  },
  {
   "cell_type": "code",
   "execution_count": null,
   "metadata": {},
   "outputs": [],
   "source": [
    "selfis = []\n",
    "start = time.time()\n",
    "for smi in zinc:\n",
    "    selfis.append(sf.encoder(smi))\n",
    "end = time.time()\n",
    "\n",
    "print(f\"SELFIES encoder: {end - start:.2f} seconds in total\")\n",
    "print(f\"SELFIES encoder: {(end - start) / len(zinc):.6f} seconds per mol\")"
   ]
  },
  {
   "cell_type": "code",
   "execution_count": null,
   "metadata": {},
   "outputs": [],
   "source": [
    "decoded = []\n",
    "start = time.time()\n",
    "for selfi in selfis:\n",
    "    decoded.append(sf.decoder(selfi))\n",
    "end = time.time()\n",
    "\n",
    "print(f\"SELFIES decoder: {end - start:.2f} seconds in total\")\n",
    "print(f\"SELFIES decoder: {(end - start) / len(zinc):.6f} seconds per mol\")"
   ]
  },
  {
   "cell_type": "code",
   "execution_count": null,
   "metadata": {},
   "outputs": [],
   "source": [
    "gselfis = []\n",
    "g = GroupGrammar.from_file('useful30.txt') | GroupGrammar.essential_set()\n",
    "\n",
    "mols = [m(smi) for smi in zinc]\n",
    "\n",
    "start = time.time()\n",
    "for mol in mols:\n",
    "    gselfis.append(g.full_encoder(mol))\n",
    "end = time.time()\n",
    "\n",
    "print(f\"Group SELFIES encoder: {end - start:.2f} seconds in total\")\n",
    "print(f\"Group SELFIES encoder: {(end - start) / len(zinc):.6f} seconds per mol\")"
   ]
  },
  {
   "cell_type": "code",
   "execution_count": null,
   "metadata": {},
   "outputs": [],
   "source": [
    "decoded_gselfis = []\n",
    "\n",
    "start = time.time()\n",
    "for gselfi in gselfis:\n",
    "    decoded_gselfis.append(g.decoder(gselfi))\n",
    "end = time.time()\n",
    "\n",
    "print(f\"Group SELFIES decoder: {end - start:.2f} seconds in total\")\n",
    "print(f\"Group SELFIES decoder: {(end - start) / len(zinc):.6f} seconds per mol\")"
   ]
  },
  {
   "cell_type": "code",
   "execution_count": null,
   "metadata": {},
   "outputs": [],
   "source": []
  }
 ],
 "metadata": {
  "kernelspec": {
   "display_name": "Python 3.10.6 ('gselfies')",
   "language": "python",
   "name": "python3"
  },
  "language_info": {
   "codemirror_mode": {
    "name": "ipython",
    "version": 3
   },
   "file_extension": ".py",
   "mimetype": "text/x-python",
   "name": "python",
   "nbconvert_exporter": "python",
   "pygments_lexer": "ipython3",
   "version": "3.10.6"
  },
  "orig_nbformat": 4,
  "vscode": {
   "interpreter": {
    "hash": "389fce3bb97ce59cf85f407f9318a49094498406d4221f56c5e9c05ed8bcb30a"
   }
  }
 },
 "nbformat": 4,
 "nbformat_minor": 2
}
